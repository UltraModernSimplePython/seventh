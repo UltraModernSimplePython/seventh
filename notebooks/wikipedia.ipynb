{
 "cells": [
  {
   "cell_type": "markdown",
   "id": "1b08bdb0-0a25-46a5-9b79-df0c495065c4",
   "metadata": {},
   "source": [
    "---\n",
    "title: Wikipedia Module\n",
    "---"
   ]
  },
  {
   "cell_type": "code",
   "execution_count": null,
   "id": "fd9a5ee6-73eb-4550-9695-f29673a60f32",
   "metadata": {},
   "outputs": [],
   "source": [
    "#| hide\n",
    "from nbdev import show_doc"
   ]
  },
  {
   "cell_type": "code",
   "execution_count": null,
   "id": "901dd4e6-a9cb-4723-905b-55ba4bd1ee9f",
   "metadata": {},
   "outputs": [],
   "source": [
    "from seventh import wikipedia"
   ]
  },
  {
   "cell_type": "code",
   "execution_count": null,
   "id": "2533337c-cf90-4a48-9019-6f11835ce019",
   "metadata": {},
   "outputs": [
    {
     "data": {
      "text/markdown": [
       "---\n",
       "\n",
       "### Page\n",
       "\n",
       ">      Page (title:str, extract:str)\n",
       "\n",
       "*A Pydantic Dataclass Class that represents a page from wikipedia*"
      ],
      "text/plain": [
       "---\n",
       "\n",
       "### Page\n",
       "\n",
       ">      Page (title:str, extract:str)\n",
       "\n",
       "*A Pydantic Dataclass Class that represents a page from wikipedia*"
      ]
     },
     "execution_count": null,
     "metadata": {},
     "output_type": "execute_result"
    }
   ],
   "source": [
    "show_doc(wikipedia.Page)"
   ]
  },
  {
   "cell_type": "code",
   "execution_count": null,
   "id": "2d236cfe-b8e9-487d-a26c-bf65bc51c84c",
   "metadata": {},
   "outputs": [
    {
     "data": {
      "text/markdown": [
       "---\n",
       "\n",
       "### random_page\n",
       "\n",
       ">      random_page (language:str='en')\n",
       "\n",
       "*Get a random page from Wikipedia.*\n",
       "\n",
       "|    | **Type** | **Default** | **Details** |\n",
       "| -- | -------- | ----------- | ----------- |\n",
       "| language | str | en | The language edition of wikipedia |\n",
       "| **Returns** | **Page** |  | **A wikipedia page object** |"
      ],
      "text/plain": [
       "---\n",
       "\n",
       "### random_page\n",
       "\n",
       ">      random_page (language:str='en')\n",
       "\n",
       "*Get a random page from Wikipedia.*\n",
       "\n",
       "|    | **Type** | **Default** | **Details** |\n",
       "| -- | -------- | ----------- | ----------- |\n",
       "| language | str | en | The language edition of wikipedia |\n",
       "| **Returns** | **Page** |  | **A wikipedia page object** |"
      ]
     },
     "execution_count": null,
     "metadata": {},
     "output_type": "execute_result"
    }
   ],
   "source": [
    "show_doc(wikipedia.random_page)"
   ]
  },
  {
   "cell_type": "markdown",
   "id": "8a18d4a5-708a-4007-a12e-e065df8dfe95",
   "metadata": {},
   "source": [
    "In this function we connect to `https://{language}.wikipedia.org/api/rest_v1/page/random/summary`, and extract the result from the JSON sent back, using pydantic. You can tey it with [English Here](https://en.wikipedia.org/api/rest_v1/page/random/summary) and [German Here](https://de.wikipedia.org/api/rest_v1/page/random/summary)"
   ]
  },
  {
   "cell_type": "code",
   "execution_count": null,
   "id": "3d0e9fe6-b66b-46fb-a768-653d7ddb90c7",
   "metadata": {},
   "outputs": [
    {
     "data": {
      "text/plain": [
       "Page(title='El Salvador–United States relations', extract=\"According to the 2012 U.S. Global Leadership Report, 55% of Salvadorans approve of U.S. leadership, with 19% disapproving and 26% uncertain, the fourth-highest rating for any surveyed country in the Americas. In 2013 and 2014, according to the Pew Research Center's global attitudes survey 79% and 80% of Salvadorans viewed the United States positively respectively revealing El Salvador as one of the most pro-American nations in the world.\")"
      ]
     },
     "execution_count": null,
     "metadata": {},
     "output_type": "execute_result"
    }
   ],
   "source": [
    "wikipedia.random_page()"
   ]
  },
  {
   "cell_type": "code",
   "execution_count": null,
   "id": "41c21e2b-40c5-421b-9121-ffb3cf3fdb7c",
   "metadata": {},
   "outputs": [
    {
     "data": {
      "text/plain": [
       "Page(title='Hans-Rolf Tränkler', extract='Hans-Rolf Tränkler ist ein deutscher Ingenieur und Professor für Messtechnik und Sensorik. Er gehört zu den maßgeblichen Professoren, die das Fach Messtechnik und Sensorik in Lehre und Forschung geprägt haben.')"
      ]
     },
     "execution_count": null,
     "metadata": {},
     "output_type": "execute_result"
    }
   ],
   "source": [
    "wikipedia.random_page(language=\"de\")"
   ]
  },
  {
   "cell_type": "code",
   "execution_count": null,
   "id": "cc7fa98a-9c28-472b-9ed9-35f8d302a824",
   "metadata": {},
   "outputs": [],
   "source": []
  }
 ],
 "metadata": {
  "kernelspec": {
   "display_name": "python3",
   "language": "python",
   "name": "python3"
  }
 },
 "nbformat": 4,
 "nbformat_minor": 5
}
