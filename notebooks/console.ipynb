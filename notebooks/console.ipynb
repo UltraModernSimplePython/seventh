{
 "cells": [
  {
   "cell_type": "markdown",
   "id": "26793c0b-2875-4546-b258-03ea33479768",
   "metadata": {},
   "source": [
    "---\n",
    "title: Console Module\n",
    "---"
   ]
  },
  {
   "cell_type": "code",
   "execution_count": null,
   "id": "61079cbd-389f-49e8-a698-0054cdc63cfe",
   "metadata": {},
   "outputs": [],
   "source": [
    "#| hide\n",
    "from nbdev import show_doc"
   ]
  },
  {
   "cell_type": "code",
   "execution_count": null,
   "id": "9c437c25-9a13-41cd-b50a-5ad123672284",
   "metadata": {},
   "outputs": [],
   "source": [
    "from seventh import console"
   ]
  },
  {
   "cell_type": "markdown",
   "id": "b139c038-3743-4eb9-a93a-97a522a33e6a",
   "metadata": {},
   "source": [
    "Console really does not export any functions, but provides the command line API of the program."
   ]
  },
  {
   "cell_type": "code",
   "execution_count": null,
   "id": "33fc3205-37d7-4be1-a755-eb81deab29cb",
   "metadata": {},
   "outputs": [
    {
     "data": {
      "text/markdown": [
       "---\n",
       "\n",
       "### <Command main>\n",
       "\n",
       ">      <Command main> (*args:Any, **kwargs:Any)\n",
       "\n",
       "*The ultramodern Python project.*"
      ],
      "text/plain": [
       "---\n",
       "\n",
       "### <Command main>\n",
       "\n",
       ">      <Command main> (*args:Any, **kwargs:Any)\n",
       "\n",
       "*The ultramodern Python project.*"
      ]
     },
     "execution_count": null,
     "metadata": {},
     "output_type": "execute_result"
    }
   ],
   "source": [
    "show_doc(console.main)"
   ]
  },
  {
   "cell_type": "markdown",
   "id": "7ab9b4f1-5e05-4c89-93b8-1b0b313f4397",
   "metadata": {},
   "source": [
    "You cant call this function directly, it becomes a `click` API. You must call it from the command line"
   ]
  },
  {
   "cell_type": "code",
   "execution_count": null,
   "id": "db895b66-38d5-4e75-bd73-9402e34cd2ae",
   "metadata": {},
   "outputs": [
    {
     "name": "stdout",
     "output_type": "stream",
     "text": [
      "\u001b[32mKluczkowice-Osiedle\u001b[0m\n",
      "Kluczkowice-Osiedle – wieś w Polsce położona w województwie lubelskim,\n",
      "w powiecie opolskim, w gminie Opole Lubelskie.\n"
     ]
    }
   ],
   "source": [
    "!python ../seventh/console.py --language pl"
   ]
  },
  {
   "cell_type": "markdown",
   "id": "ae34c74f-bd4e-4574-b0f8-1d801359aa21",
   "metadata": {},
   "source": [
    "Or you can call it using pixi"
   ]
  },
  {
   "cell_type": "code",
   "execution_count": null,
   "id": "71190893-58f5-4f24-97c9-92f7b86f1514",
   "metadata": {},
   "outputs": [
    {
     "name": "stdout",
     "output_type": "stream",
     "text": [
      "✨ \u001b[1mPixi task (\u001b[0m\u001b[32m\u001b[1mprogram\u001b[0m in \u001b[35m\u001b[1mdefault\u001b[0m\u001b[1m): \u001b[0m\u001b[34m\u001b[1mpython seventh/console.py\u001b[0m \u001b[34m--language fr\u001b[0m\n",
      "\u001b[2K\u001b[32m⠁\u001b[0m activating environment                                                                 \u001b[32mLucgarier\u001b[0m\n",
      "Lucgarier est une commune française située dans le département des\n",
      "Pyrénées-Atlantiques, en région Nouvelle-Aquitaine.\n"
     ]
    }
   ],
   "source": [
    "!pixi run program --language fr"
   ]
  },
  {
   "cell_type": "markdown",
   "id": "974809c4-ec23-4f22-96f4-d40dc282a954",
   "metadata": {},
   "source": [
    "TODO: make this a commanf line application"
   ]
  }
 ],
 "metadata": {
  "kernelspec": {
   "display_name": "python3",
   "language": "python",
   "name": "python3"
  }
 },
 "nbformat": 4,
 "nbformat_minor": 5
}
